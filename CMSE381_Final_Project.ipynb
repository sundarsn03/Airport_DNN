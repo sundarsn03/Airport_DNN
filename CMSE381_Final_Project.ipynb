{
 "cells": [
  {
   "cell_type": "markdown",
   "metadata": {},
   "source": [
    "1. Organization of the report (10 pts)\n",
    "\n",
    "2. Problem statement/statement (5 pts): Clearly state the project's objectives.\n",
    "\n",
    "3. Related work (30 pts):  You need to regenerate (approximately) the results on the original report.\n",
    "\n",
    "4. Design your own model (25 pts)  (You can include more than one model).\n",
    "\n",
    "     a. You can state the potential drawback of their analyses and then lead to your model. Why is your model better?\n",
    "\n",
    "    b. You can ask some interesting questions which the previous blog didn't answer.\n",
    "\n",
    "5. Results (20 pts). Present your results.\n",
    "\n",
    "6. Discussion and conclusions (10 pts)"
   ]
  },
  {
   "cell_type": "code",
   "execution_count": 1,
   "metadata": {},
   "outputs": [],
   "source": [
    "import pandas as pd\n",
    "import numpy as np\n",
    "import seaborn as sns\n",
    "import matplotlib.pyplot as plt\n",
    "from sklearn.preprocessing import normalize\n"
   ]
  },
  {
   "cell_type": "code",
   "execution_count": 2,
   "metadata": {},
   "outputs": [],
   "source": [
    "df = pd.read_csv('Airports2.csv')"
   ]
  },
  {
   "cell_type": "code",
   "execution_count": 3,
   "metadata": {},
   "outputs": [],
   "source": [
    "label = df['Distance']/df['Flights']\n",
    "label = pd.DataFrame(label)\n",
    "df['profit'] = label\n",
    "df1 = df.dropna()\n"
   ]
  },
  {
   "cell_type": "code",
   "execution_count": 4,
   "metadata": {},
   "outputs": [
    {
     "data": {
      "text/plain": [
       "1            4.681818\n",
       "2            5.421053\n",
       "3           25.750000\n",
       "4          156.000000\n",
       "5          156.000000\n",
       "              ...    \n",
       "3606797      1.724638\n",
       "3606798      2.333333\n",
       "3606799      2.203704\n",
       "3606800      1.776119\n",
       "3606801    146.000000\n",
       "Name: profit, Length: 3593852, dtype: float64"
      ]
     },
     "execution_count": 4,
     "metadata": {},
     "output_type": "execute_result"
    }
   ],
   "source": [
    "df1.describe()\n",
    "df1['profit']"
   ]
  },
  {
   "cell_type": "code",
   "execution_count": 5,
   "metadata": {},
   "outputs": [
    {
     "data": {
      "text/plain": [
       "(array([3.149866e+06, 2.705490e+05, 1.008230e+05, 3.317700e+04,\n",
       "        1.956600e+04, 6.472000e+03, 1.899000e+03, 3.720000e+02,\n",
       "        2.780000e+02, 8.200000e+01]),\n",
       " array([   0. ,  501.8, 1003.6, 1505.4, 2007.2, 2509. , 3010.8, 3512.6,\n",
       "        4014.4, 4516.2, 5018. ]),\n",
       " <a list of 10 Patch objects>)"
      ]
     },
     "execution_count": 5,
     "metadata": {},
     "output_type": "execute_result"
    },
    {
     "data": {
      "image/png": "[encoded data removed]",
      "text/plain": [
       "<Figure size 432x288 with 1 Axes>"
      ]
     },
     "metadata": {
      "needs_background": "light"
     },
     "output_type": "display_data"
    }
   ],
   "source": [
    "df2 = df1.replace([np.inf, -np.inf], np.nan).dropna(axis=1)\n",
    "df2 = df1[df1.replace([np.inf, -np.inf], np.nan).notnull().all(axis=1)]\n",
    "\n",
    "df2.columns\n",
    "plt.hist(df2['profit'])"
   ]
  },
  {
   "cell_type": "code",
   "execution_count": 6,
   "metadata": {},
   "outputs": [
    {
     "name": "stderr",
     "output_type": "stream",
     "text": [
      "/Users/sneha/anaconda3/lib/python3.7/site-packages/pandas/core/indexing.py:671: SettingWithCopyWarning: \n",
      "A value is trying to be set on a copy of a slice from a DataFrame\n",
      "\n",
      "See the caveats in the documentation: https://pandas.pydata.org/pandas-docs/stable/user_guide/indexing.html#returning-a-view-versus-a-copy\n",
      "  self._setitem_with_indexer(indexer, value)\n",
      "/Users/sneha/anaconda3/lib/python3.7/site-packages/ipykernel_launcher.py:1: SettingWithCopyWarning: \n",
      "A value is trying to be set on a copy of a slice from a DataFrame\n",
      "\n",
      "See the caveats in the documentation: https://pandas.pydata.org/pandas-docs/stable/user_guide/indexing.html#returning-a-view-versus-a-copy\n",
      "  \"\"\"Entry point for launching an IPython kernel.\n",
      "/Users/sneha/anaconda3/lib/python3.7/site-packages/ipykernel_launcher.py:2: SettingWithCopyWarning: \n",
      "A value is trying to be set on a copy of a slice from a DataFrame\n",
      "\n",
      "See the caveats in the documentation: https://pandas.pydata.org/pandas-docs/stable/user_guide/indexing.html#returning-a-view-versus-a-copy\n",
      "  \n",
      "/Users/sneha/anaconda3/lib/python3.7/site-packages/ipykernel_launcher.py:3: SettingWithCopyWarning: \n",
      "A value is trying to be set on a copy of a slice from a DataFrame\n",
      "\n",
      "See the caveats in the documentation: https://pandas.pydata.org/pandas-docs/stable/user_guide/indexing.html#returning-a-view-versus-a-copy\n",
      "  This is separate from the ipykernel package so we can avoid doing imports until\n",
      "/Users/sneha/anaconda3/lib/python3.7/site-packages/ipykernel_launcher.py:4: SettingWithCopyWarning: \n",
      "A value is trying to be set on a copy of a slice from a DataFrame\n",
      "\n",
      "See the caveats in the documentation: https://pandas.pydata.org/pandas-docs/stable/user_guide/indexing.html#returning-a-view-versus-a-copy\n",
      "  after removing the cwd from sys.path.\n",
      "/Users/sneha/anaconda3/lib/python3.7/site-packages/ipykernel_launcher.py:5: SettingWithCopyWarning: \n",
      "A value is trying to be set on a copy of a slice from a DataFrame\n",
      "\n",
      "See the caveats in the documentation: https://pandas.pydata.org/pandas-docs/stable/user_guide/indexing.html#returning-a-view-versus-a-copy\n",
      "  \"\"\"\n",
      "/Users/sneha/anaconda3/lib/python3.7/site-packages/ipykernel_launcher.py:6: SettingWithCopyWarning: \n",
      "A value is trying to be set on a copy of a slice from a DataFrame\n",
      "\n",
      "See the caveats in the documentation: https://pandas.pydata.org/pandas-docs/stable/user_guide/indexing.html#returning-a-view-versus-a-copy\n",
      "  \n",
      "/Users/sneha/anaconda3/lib/python3.7/site-packages/ipykernel_launcher.py:7: SettingWithCopyWarning: \n",
      "A value is trying to be set on a copy of a slice from a DataFrame\n",
      "\n",
      "See the caveats in the documentation: https://pandas.pydata.org/pandas-docs/stable/user_guide/indexing.html#returning-a-view-versus-a-copy\n",
      "  import sys\n"
     ]
    }
   ],
   "source": [
    "df2['profit'].loc[(df2['profit'] < 50)] = 0\n",
    "df2['profit'].loc[(df2['profit'] >= 50) & (df2['profit'] < 100)] = 1\n",
    "df2['profit'].loc[(df2['profit'] >= 100) & (df2['profit'] < 200)] = 2\n",
    "df2['profit'].loc[(df2['profit'] >= 200) & (df2['profit'] < 500)] = 3\n",
    "df2['profit'].loc[(df2['profit'] >= 500) & (df2['profit'] < 1000)] = 4\n",
    "df2['profit'].loc[(df2['profit'] >= 1000) & (df2['profit'] < 2000)] = 5\n",
    "df2['profit'].loc[(df2['profit'] > 2000)] = 6"
   ]
  },
  {
   "cell_type": "code",
   "execution_count": 7,
   "metadata": {},
   "outputs": [
    {
     "data": {
      "text/html": [
       "<div>\n",
       "<style scoped>\n",
       "    .dataframe tbody tr th:only-of-type {\n",
       "        vertical-align: middle;\n",
       "    }\n",
       "\n",
       "    .dataframe tbody tr th {\n",
       "        vertical-align: top;\n",
       "    }\n",
       "\n",
       "    .dataframe thead th {\n",
       "        text-align: right;\n",
       "    }\n",
       "</style>\n",
       "<table border=\"1\" class=\"dataframe\">\n",
       "  <thead>\n",
       "    <tr style=\"text-align: right;\">\n",
       "      <th></th>\n",
       "      <th>Origin_airport</th>\n",
       "      <th>Destination_airport</th>\n",
       "      <th>Origin_city</th>\n",
       "      <th>Destination_city</th>\n",
       "      <th>Passengers</th>\n",
       "      <th>Seats</th>\n",
       "      <th>Flights</th>\n",
       "      <th>Distance</th>\n",
       "      <th>Fly_date</th>\n",
       "      <th>Origin_population</th>\n",
       "      <th>Destination_population</th>\n",
       "      <th>Org_airport_lat</th>\n",
       "      <th>Org_airport_long</th>\n",
       "      <th>Dest_airport_lat</th>\n",
       "      <th>Dest_airport_long</th>\n",
       "      <th>profit</th>\n",
       "    </tr>\n",
       "  </thead>\n",
       "  <tbody>\n",
       "    <tr>\n",
       "      <th>1</th>\n",
       "      <td>EUG</td>\n",
       "      <td>RDM</td>\n",
       "      <td>Eugene, OR</td>\n",
       "      <td>Bend, OR</td>\n",
       "      <td>41</td>\n",
       "      <td>396</td>\n",
       "      <td>22</td>\n",
       "      <td>103</td>\n",
       "      <td>1990-11-01</td>\n",
       "      <td>284093</td>\n",
       "      <td>76034</td>\n",
       "      <td>44.124599</td>\n",
       "      <td>-123.211998</td>\n",
       "      <td>44.254101</td>\n",
       "      <td>-121.150001</td>\n",
       "      <td>0.0</td>\n",
       "    </tr>\n",
       "    <tr>\n",
       "      <th>2</th>\n",
       "      <td>EUG</td>\n",
       "      <td>RDM</td>\n",
       "      <td>Eugene, OR</td>\n",
       "      <td>Bend, OR</td>\n",
       "      <td>88</td>\n",
       "      <td>342</td>\n",
       "      <td>19</td>\n",
       "      <td>103</td>\n",
       "      <td>1990-12-01</td>\n",
       "      <td>284093</td>\n",
       "      <td>76034</td>\n",
       "      <td>44.124599</td>\n",
       "      <td>-123.211998</td>\n",
       "      <td>44.254101</td>\n",
       "      <td>-121.150001</td>\n",
       "      <td>0.0</td>\n",
       "    </tr>\n",
       "    <tr>\n",
       "      <th>3</th>\n",
       "      <td>EUG</td>\n",
       "      <td>RDM</td>\n",
       "      <td>Eugene, OR</td>\n",
       "      <td>Bend, OR</td>\n",
       "      <td>11</td>\n",
       "      <td>72</td>\n",
       "      <td>4</td>\n",
       "      <td>103</td>\n",
       "      <td>1990-10-01</td>\n",
       "      <td>284093</td>\n",
       "      <td>76034</td>\n",
       "      <td>44.124599</td>\n",
       "      <td>-123.211998</td>\n",
       "      <td>44.254101</td>\n",
       "      <td>-121.150001</td>\n",
       "      <td>0.0</td>\n",
       "    </tr>\n",
       "    <tr>\n",
       "      <th>4</th>\n",
       "      <td>MFR</td>\n",
       "      <td>RDM</td>\n",
       "      <td>Medford, OR</td>\n",
       "      <td>Bend, OR</td>\n",
       "      <td>0</td>\n",
       "      <td>18</td>\n",
       "      <td>1</td>\n",
       "      <td>156</td>\n",
       "      <td>1990-02-01</td>\n",
       "      <td>147300</td>\n",
       "      <td>76034</td>\n",
       "      <td>42.374199</td>\n",
       "      <td>-122.873001</td>\n",
       "      <td>44.254101</td>\n",
       "      <td>-121.150001</td>\n",
       "      <td>2.0</td>\n",
       "    </tr>\n",
       "    <tr>\n",
       "      <th>5</th>\n",
       "      <td>MFR</td>\n",
       "      <td>RDM</td>\n",
       "      <td>Medford, OR</td>\n",
       "      <td>Bend, OR</td>\n",
       "      <td>11</td>\n",
       "      <td>18</td>\n",
       "      <td>1</td>\n",
       "      <td>156</td>\n",
       "      <td>1990-03-01</td>\n",
       "      <td>147300</td>\n",
       "      <td>76034</td>\n",
       "      <td>42.374199</td>\n",
       "      <td>-122.873001</td>\n",
       "      <td>44.254101</td>\n",
       "      <td>-121.150001</td>\n",
       "      <td>2.0</td>\n",
       "    </tr>\n",
       "    <tr>\n",
       "      <th>...</th>\n",
       "      <td>...</td>\n",
       "      <td>...</td>\n",
       "      <td>...</td>\n",
       "      <td>...</td>\n",
       "      <td>...</td>\n",
       "      <td>...</td>\n",
       "      <td>...</td>\n",
       "      <td>...</td>\n",
       "      <td>...</td>\n",
       "      <td>...</td>\n",
       "      <td>...</td>\n",
       "      <td>...</td>\n",
       "      <td>...</td>\n",
       "      <td>...</td>\n",
       "      <td>...</td>\n",
       "      <td>...</td>\n",
       "    </tr>\n",
       "    <tr>\n",
       "      <th>3606797</th>\n",
       "      <td>STL</td>\n",
       "      <td>TBN</td>\n",
       "      <td>St. Louis, MO</td>\n",
       "      <td>Fort Leonard Wood, MO</td>\n",
       "      <td>292</td>\n",
       "      <td>1311</td>\n",
       "      <td>69</td>\n",
       "      <td>119</td>\n",
       "      <td>2009-06-01</td>\n",
       "      <td>2828990</td>\n",
       "      <td>46457</td>\n",
       "      <td>38.748699</td>\n",
       "      <td>-90.370003</td>\n",
       "      <td>37.741600</td>\n",
       "      <td>-92.140701</td>\n",
       "      <td>0.0</td>\n",
       "    </tr>\n",
       "    <tr>\n",
       "      <th>3606798</th>\n",
       "      <td>STL</td>\n",
       "      <td>TBN</td>\n",
       "      <td>St. Louis, MO</td>\n",
       "      <td>Fort Leonard Wood, MO</td>\n",
       "      <td>281</td>\n",
       "      <td>969</td>\n",
       "      <td>51</td>\n",
       "      <td>119</td>\n",
       "      <td>2009-02-01</td>\n",
       "      <td>2828990</td>\n",
       "      <td>46457</td>\n",
       "      <td>38.748699</td>\n",
       "      <td>-90.370003</td>\n",
       "      <td>37.741600</td>\n",
       "      <td>-92.140701</td>\n",
       "      <td>0.0</td>\n",
       "    </tr>\n",
       "    <tr>\n",
       "      <th>3606799</th>\n",
       "      <td>STL</td>\n",
       "      <td>TBN</td>\n",
       "      <td>St. Louis, MO</td>\n",
       "      <td>Fort Leonard Wood, MO</td>\n",
       "      <td>245</td>\n",
       "      <td>1026</td>\n",
       "      <td>54</td>\n",
       "      <td>119</td>\n",
       "      <td>2009-11-01</td>\n",
       "      <td>2828990</td>\n",
       "      <td>46457</td>\n",
       "      <td>38.748699</td>\n",
       "      <td>-90.370003</td>\n",
       "      <td>37.741600</td>\n",
       "      <td>-92.140701</td>\n",
       "      <td>0.0</td>\n",
       "    </tr>\n",
       "    <tr>\n",
       "      <th>3606800</th>\n",
       "      <td>STL</td>\n",
       "      <td>TBN</td>\n",
       "      <td>St. Louis, MO</td>\n",
       "      <td>Fort Leonard Wood, MO</td>\n",
       "      <td>363</td>\n",
       "      <td>1273</td>\n",
       "      <td>67</td>\n",
       "      <td>119</td>\n",
       "      <td>2009-08-01</td>\n",
       "      <td>2828990</td>\n",
       "      <td>46457</td>\n",
       "      <td>38.748699</td>\n",
       "      <td>-90.370003</td>\n",
       "      <td>37.741600</td>\n",
       "      <td>-92.140701</td>\n",
       "      <td>0.0</td>\n",
       "    </tr>\n",
       "    <tr>\n",
       "      <th>3606801</th>\n",
       "      <td>CGI</td>\n",
       "      <td>TBN</td>\n",
       "      <td>Cape Girardeau, MO</td>\n",
       "      <td>Fort Leonard Wood, MO</td>\n",
       "      <td>2</td>\n",
       "      <td>19</td>\n",
       "      <td>1</td>\n",
       "      <td>146</td>\n",
       "      <td>2009-08-01</td>\n",
       "      <td>93712</td>\n",
       "      <td>46457</td>\n",
       "      <td>37.225300</td>\n",
       "      <td>-89.570801</td>\n",
       "      <td>37.741600</td>\n",
       "      <td>-92.140701</td>\n",
       "      <td>2.0</td>\n",
       "    </tr>\n",
       "  </tbody>\n",
       "</table>\n",
       "<p>3583084 rows × 16 columns</p>\n",
       "</div>"
      ],
      "text/plain": [
       "        Origin_airport Destination_airport         Origin_city  \\\n",
       "1                  EUG                 RDM          Eugene, OR   \n",
       "2                  EUG                 RDM          Eugene, OR   \n",
       "3                  EUG                 RDM          Eugene, OR   \n",
       "4                  MFR                 RDM         Medford, OR   \n",
       "5                  MFR                 RDM         Medford, OR   \n",
       "...                ...                 ...                 ...   \n",
       "3606797            STL                 TBN       St. Louis, MO   \n",
       "3606798            STL                 TBN       St. Louis, MO   \n",
       "3606799            STL                 TBN       St. Louis, MO   \n",
       "3606800            STL                 TBN       St. Louis, MO   \n",
       "3606801            CGI                 TBN  Cape Girardeau, MO   \n",
       "\n",
       "              Destination_city  Passengers  Seats  Flights  Distance  \\\n",
       "1                     Bend, OR          41    396       22       103   \n",
       "2                     Bend, OR          88    342       19       103   \n",
       "3                     Bend, OR          11     72        4       103   \n",
       "4                     Bend, OR           0     18        1       156   \n",
       "5                     Bend, OR          11     18        1       156   \n",
       "...                        ...         ...    ...      ...       ...   \n",
       "3606797  Fort Leonard Wood, MO         292   1311       69       119   \n",
       "3606798  Fort Leonard Wood, MO         281    969       51       119   \n",
       "3606799  Fort Leonard Wood, MO         245   1026       54       119   \n",
       "3606800  Fort Leonard Wood, MO         363   1273       67       119   \n",
       "3606801  Fort Leonard Wood, MO           2     19        1       146   \n",
       "\n",
       "           Fly_date  Origin_population  Destination_population  \\\n",
       "1        1990-11-01             284093                   76034   \n",
       "2        1990-12-01             284093                   76034   \n",
       "3        1990-10-01             284093                   76034   \n",
       "4        1990-02-01             147300                   76034   \n",
       "5        1990-03-01             147300                   76034   \n",
       "...             ...                ...                     ...   \n",
       "3606797  2009-06-01            2828990                   46457   \n",
       "3606798  2009-02-01            2828990                   46457   \n",
       "3606799  2009-11-01            2828990                   46457   \n",
       "3606800  2009-08-01            2828990                   46457   \n",
       "3606801  2009-08-01              93712                   46457   \n",
       "\n",
       "         Org_airport_lat  Org_airport_long  Dest_airport_lat  \\\n",
       "1              44.124599       -123.211998         44.254101   \n",
       "2              44.124599       -123.211998         44.254101   \n",
       "3              44.124599       -123.211998         44.254101   \n",
       "4              42.374199       -122.873001         44.254101   \n",
       "5              42.374199       -122.873001         44.254101   \n",
       "...                  ...               ...               ...   \n",
       "3606797        38.748699        -90.370003         37.741600   \n",
       "3606798        38.748699        -90.370003         37.741600   \n",
       "3606799        38.748699        -90.370003         37.741600   \n",
       "3606800        38.748699        -90.370003         37.741600   \n",
       "3606801        37.225300        -89.570801         37.741600   \n",
       "\n",
       "         Dest_airport_long  profit  \n",
       "1              -121.150001     0.0  \n",
       "2              -121.150001     0.0  \n",
       "3              -121.150001     0.0  \n",
       "4              -121.150001     2.0  \n",
       "5              -121.150001     2.0  \n",
       "...                    ...     ...  \n",
       "3606797         -92.140701     0.0  \n",
       "3606798         -92.140701     0.0  \n",
       "3606799         -92.140701     0.0  \n",
       "3606800         -92.140701     0.0  \n",
       "3606801         -92.140701     2.0  \n",
       "\n",
       "[3583084 rows x 16 columns]"
      ]
     },
     "execution_count": 7,
     "metadata": {},
     "output_type": "execute_result"
    }
   ],
   "source": [
    "df2"
   ]
  },
  {
   "cell_type": "code",
   "execution_count": 8,
   "metadata": {},
   "outputs": [],
   "source": [
    "#classification problem"
   ]
  },
  {
   "cell_type": "code",
   "execution_count": 9,
   "metadata": {},
   "outputs": [
    {
     "data": {
      "text/plain": [
       "<matplotlib.axes._subplots.AxesSubplot at 0x1a1a2e3630>"
      ]
     },
     "execution_count": 9,
     "metadata": {},
     "output_type": "execute_result"
    },
    {
     "data": {
      "image/png": "[encoded data removed]",
      "text/plain": [
       "<Figure size 432x288 with 2 Axes>"
      ]
     },
     "metadata": {
      "needs_background": "light"
     },
     "output_type": "display_data"
    }
   ],
   "source": [
    "sns.heatmap(df2.corr())"
   ]
  },
  {
   "cell_type": "code",
   "execution_count": 10,
   "metadata": {},
   "outputs": [
    {
     "data": {
      "text/plain": [
       "(3583084, 3)"
      ]
     },
     "execution_count": 10,
     "metadata": {},
     "output_type": "execute_result"
    }
   ],
   "source": [
    "feature_cols = ['Distance','Origin_population','Destination_population']\n",
    "x = df2[['Distance','Origin_population','Destination_population']]\n",
    "x = x.values\n",
    "y = df2[['profit']]\n",
    "y = y.values\n",
    "x.shape\n",
    "\n",
    "#profit used as the label"
   ]
  },
  {
   "cell_type": "code",
   "execution_count": 11,
   "metadata": {},
   "outputs": [
    {
     "data": {
      "text/plain": [
       "DecisionTreeClassifier(ccp_alpha=0.0, class_weight=None, criterion='entropy',\n",
       "                       max_depth=None, max_features=None, max_leaf_nodes=10,\n",
       "                       min_impurity_decrease=0.0, min_impurity_split=None,\n",
       "                       min_samples_leaf=1, min_samples_split=2,\n",
       "                       min_weight_fraction_leaf=0.0, presort='deprecated',\n",
       "                       random_state=None, splitter='best')"
      ]
     },
     "execution_count": 11,
     "metadata": {},
     "output_type": "execute_result"
    }
   ],
   "source": [
    "from sklearn.tree import DecisionTreeClassifier # Import Decision Tree Classifier\n",
    "from sklearn.model_selection import train_test_split # Import train_test_split function\n",
    "from sklearn import metrics #Import scikit-learn metrics module for accuracy calculation\n",
    "X_train, X_test, y_train, y_test = train_test_split(x, y, test_size=0.10, random_state=1)\n",
    "clf = DecisionTreeClassifier(criterion = 'entropy',max_depth=None, max_leaf_nodes=10)\n",
    "clf\n",
    "\n"
   ]
  },
  {
   "cell_type": "code",
   "execution_count": 12,
   "metadata": {},
   "outputs": [
    {
     "data": {
      "text/plain": [
       "DecisionTreeClassifier(ccp_alpha=0.0, class_weight=None, criterion='entropy',\n",
       "                       max_depth=None, max_features=None, max_leaf_nodes=10,\n",
       "                       min_impurity_decrease=0.0, min_impurity_split=None,\n",
       "                       min_samples_leaf=1, min_samples_split=2,\n",
       "                       min_weight_fraction_leaf=0.0, presort='deprecated',\n",
       "                       random_state=None, splitter='best')"
      ]
     },
     "execution_count": 12,
     "metadata": {},
     "output_type": "execute_result"
    }
   ],
   "source": [
    "clf.fit(X_train, y_train)"
   ]
  },
  {
   "cell_type": "code",
   "execution_count": 13,
   "metadata": {},
   "outputs": [],
   "source": [
    "y_pred = clf.predict(X_test)"
   ]
  },
  {
   "cell_type": "code",
   "execution_count": 14,
   "metadata": {},
   "outputs": [
    {
     "data": {
      "text/plain": [
       "array([1., 0., 0., ..., 2., 0., 0.])"
      ]
     },
     "execution_count": 14,
     "metadata": {},
     "output_type": "execute_result"
    }
   ],
   "source": [
    "y_pred"
   ]
  },
  {
   "cell_type": "code",
   "execution_count": 15,
   "metadata": {},
   "outputs": [
    {
     "name": "stdout",
     "output_type": "stream",
     "text": [
      "Accuracy: 0.6067109673494107\n"
     ]
    }
   ],
   "source": [
    "print(\"Accuracy:\",metrics.accuracy_score(y_test, y_pred))"
   ]
  },
  {
   "cell_type": "code",
   "execution_count": 16,
   "metadata": {},
   "outputs": [
    {
     "data": {
      "text/plain": [
       "array([[209417,  27804,  25617,  37068,  25225,  10720,      0],\n",
       "       [  3560,   5178,   1474,   1333,   1052,    639,   2555],\n",
       "       [    47,    280,    868,    799,    364,    230,    340],\n",
       "       [     0,      0,      0,      0,      0,      0,      0],\n",
       "       [     0,      0,      0,      0,      0,      0,      0],\n",
       "       [   702,    246,    255,    323,    286,   1927,      0],\n",
       "       [     0,      0,      0,      0,      0,      0,      0]])"
      ]
     },
     "execution_count": 16,
     "metadata": {},
     "output_type": "execute_result"
    }
   ],
   "source": [
    "from sklearn.metrics import confusion_matrix\n",
    "cm = confusion_matrix(y_pred,y_test)\n",
    "cm"
   ]
  },
  {
   "cell_type": "code",
   "execution_count": 17,
   "metadata": {},
   "outputs": [
    {
     "data": {
      "image/png": "[encoded data removed]",
      "text/plain": [
       "<Figure size 288x288 with 2 Axes>"
      ]
     },
     "metadata": {
      "needs_background": "light"
     },
     "output_type": "display_data"
    }
   ],
   "source": [
    "plt.matshow(cm)\n",
    "plt.title('Confusion matrix')\n",
    "plt.colorbar()\n",
    "plt.ylabel('True label')\n",
    "plt.xlabel('Predicted label')\n",
    "plt.title('Decision Tree')\n",
    "plt.show()"
   ]
  },
  {
   "cell_type": "code",
   "execution_count": 18,
   "metadata": {},
   "outputs": [],
   "source": [
    "from sklearn.preprocessing import StandardScaler\n",
    "sc = StandardScaler()\n",
    "X_train = sc.fit_transform(X_train)\n",
    "X_test = sc.transform(X_test)"
   ]
  },
  {
   "cell_type": "code",
   "execution_count": 19,
   "metadata": {},
   "outputs": [
    {
     "name": "stderr",
     "output_type": "stream",
     "text": [
      "/Users/sneha/anaconda3/lib/python3.7/site-packages/sklearn/naive_bayes.py:206: DataConversionWarning: A column-vector y was passed when a 1d array was expected. Please change the shape of y to (n_samples, ), for example using ravel().\n",
      "  y = column_or_1d(y, warn=True)\n"
     ]
    },
    {
     "data": {
      "text/plain": [
       "GaussianNB(priors=None, var_smoothing=1e-09)"
      ]
     },
     "execution_count": 19,
     "metadata": {},
     "output_type": "execute_result"
    }
   ],
   "source": [
    "from sklearn.naive_bayes import GaussianNB\n",
    "classifier = GaussianNB()\n",
    "classifier.fit(X_train, y_train)"
   ]
  },
  {
   "cell_type": "code",
   "execution_count": 20,
   "metadata": {},
   "outputs": [],
   "source": [
    "y_pred  =  classifier.predict(X_test)"
   ]
  },
  {
   "cell_type": "code",
   "execution_count": 21,
   "metadata": {},
   "outputs": [
    {
     "data": {
      "text/plain": [
       "0.5976126750932854"
      ]
     },
     "execution_count": 21,
     "metadata": {},
     "output_type": "execute_result"
    }
   ],
   "source": [
    "from sklearn.metrics import confusion_matrix,accuracy_score\n",
    "cm_nb = confusion_matrix(y_test, y_pred)\n",
    "ac_nb = accuracy_score(y_test,y_pred)\n",
    "ac_nb"
   ]
  },
  {
   "cell_type": "code",
   "execution_count": 22,
   "metadata": {},
   "outputs": [
    {
     "data": {
      "image/png": "[encoded data removed]",
      "text/plain": [
       "<Figure size 288x288 with 2 Axes>"
      ]
     },
     "metadata": {
      "needs_background": "light"
     },
     "output_type": "display_data"
    }
   ],
   "source": [
    "plt.matshow(cm_nb)\n",
    "plt.title('Confusion matrix')\n",
    "plt.colorbar()\n",
    "plt.ylabel('True label')\n",
    "plt.xlabel('Predicted label')\n",
    "plt.title('Naive Bayes')\n",
    "plt.show()"
   ]
  },
  {
   "cell_type": "code",
   "execution_count": 23,
   "metadata": {},
   "outputs": [
    {
     "data": {
      "text/plain": [
       "(3583084, 6)"
      ]
     },
     "execution_count": 23,
     "metadata": {},
     "output_type": "execute_result"
    }
   ],
   "source": [
    "x = df2[['Passengers','Seats','Flights','Distance','Origin_population','Destination_population']]\n",
    "x = x.values\n",
    "y = df2[['profit']]\n",
    "y = y.values\n",
    "x.shape"
   ]
  },
  {
   "cell_type": "code",
   "execution_count": 24,
   "metadata": {},
   "outputs": [],
   "source": [
    "import numpy as np\n",
    "import tensorflow\n",
    "import keras\n",
    "from keras.models import Sequential\n",
    "from tensorflow.python.keras.metrics import Metric\n",
    "from sklearn.preprocessing import StandardScaler\n",
    "from keras.layers import Input, Dense, Dropout, Activation\n",
    "from keras.models import Model\n",
    "from keras import optimizers\n",
    "from keras import initializers\n"
   ]
  },
  {
   "cell_type": "code",
   "execution_count": 25,
   "metadata": {},
   "outputs": [],
   "source": [
    "from keras.utils import np_utils\n",
    "from keras.utils.np_utils import to_categorical\n"
   ]
  },
  {
   "cell_type": "code",
   "execution_count": 26,
   "metadata": {},
   "outputs": [
    {
     "name": "stdout",
     "output_type": "stream",
     "text": [
      "         Passengers  Seats  Flights  Distance  Origin_population  \\\n",
      "1                41    396       22       103             284093   \n",
      "2                88    342       19       103             284093   \n",
      "3                11     72        4       103             284093   \n",
      "4                 0     18        1       156             147300   \n",
      "5                11     18        1       156             147300   \n",
      "...             ...    ...      ...       ...                ...   \n",
      "3606797         292   1311       69       119            2828990   \n",
      "3606798         281    969       51       119            2828990   \n",
      "3606799         245   1026       54       119            2828990   \n",
      "3606800         363   1273       67       119            2828990   \n",
      "3606801           2     19        1       146              93712   \n",
      "\n",
      "         Destination_population  \n",
      "1                         76034  \n",
      "2                         76034  \n",
      "3                         76034  \n",
      "4                         76034  \n",
      "5                         76034  \n",
      "...                         ...  \n",
      "3606797                   46457  \n",
      "3606798                   46457  \n",
      "3606799                   46457  \n",
      "3606800                   46457  \n",
      "3606801                   46457  \n",
      "\n",
      "[3583084 rows x 6 columns]\n",
      "Shape of X (3583084, 6)\n",
      "Shape of y (3583084, 1)\n"
     ]
    }
   ],
   "source": [
    "\n",
    "##############################################################\n",
    "x = df2[['Passengers','Seats','Flights','Distance','Origin_population','Destination_population']]\n",
    "print(x)\n",
    "x = x.values\n",
    "y = df2[['profit']]\n",
    "y = y.values\n",
    "print(\"Shape of X\",x.shape)\n",
    "print(\"Shape of y\",y.shape)\n",
    "\n",
    "\n",
    "\n",
    "from sklearn.model_selection import train_test_split\n",
    "from sklearn.preprocessing import StandardScaler\n",
    "\n",
    "sc = StandardScaler()\n",
    "x = sc.fit_transform(x)\n",
    "x\n",
    "from sklearn.preprocessing import OneHotEncoder\n",
    "ohe = OneHotEncoder()\n",
    "y = ohe.fit_transform(y).toarray()\n",
    "\n",
    "X_train,X_test,y_train,y_test = train_test_split(x,y,test_size = 0.1)\n",
    "# y_train=np_utils.to_categorical(y_train,num_classes=7)\n",
    "# y_test=np_utils.to_categorical(y_test,num_classes=7)\n",
    "\n",
    "\n",
    "model=Sequential()\n",
    "model.add(Dense(1000,input_dim=6,activation='relu'))\n",
    "model.add(Dense(500,activation='relu'))\n",
    "model.add(Dense(300,activation='relu'))\n",
    "model.add(Dense(100,activation='relu'))\n",
    "model.add(Dense(7,activation='softmax'))\n",
    "\n",
    "model.compile(loss='categorical_crossentropy',optimizer='adam',metrics=['accuracy'])"
   ]
  },
  {
   "cell_type": "code",
   "execution_count": 27,
   "metadata": {},
   "outputs": [
    {
     "name": "stdout",
     "output_type": "stream",
     "text": [
      "Model: \"sequential\"\n",
      "_________________________________________________________________\n",
      " Layer (type)                Output Shape              Param #   \n",
      "=================================================================\n",
      " dense (Dense)               (None, 1000)              7000      \n",
      "                                                                 \n",
      " dense_1 (Dense)             (None, 500)               500500    \n",
      "                                                                 \n",
      " dense_2 (Dense)             (None, 300)               150300    \n",
      "                                                                 \n",
      " dense_3 (Dense)             (None, 100)               30100     \n",
      "                                                                 \n",
      " dense_4 (Dense)             (None, 7)                 707       \n",
      "                                                                 \n",
      "=================================================================\n",
      "Total params: 688,607\n",
      "Trainable params: 688,607\n",
      "Non-trainable params: 0\n",
      "_________________________________________________________________\n"
     ]
    }
   ],
   "source": [
    "model.summary()"
   ]
  },
  {
   "cell_type": "code",
   "execution_count": 28,
   "metadata": {},
   "outputs": [],
   "source": [
    "model.compile(loss='categorical_crossentropy', optimizer='adam', metrics=['accuracy'])"
   ]
  },
  {
   "cell_type": "code",
   "execution_count": 29,
   "metadata": {},
   "outputs": [
    {
     "name": "stdout",
     "output_type": "stream",
     "text": [
      "Epoch 1/10\n",
      "WARNING:tensorflow:AutoGraph could not transform <function Model.make_train_function.<locals>.train_function at 0x1a29c82620> and will run it as-is.\n",
      "Please report this to the TensorFlow team. When filing the bug, set the verbosity to 10 (on Linux, `export AUTOGRAPH_VERBOSITY=10`) and attach the full output.\n",
      "Cause: 'arguments' object has no attribute 'posonlyargs'\n",
      "To silence this warning, decorate the function with @tf.autograph.experimental.do_not_convert\n",
      "WARNING: AutoGraph could not transform <function Model.make_train_function.<locals>.train_function at 0x1a29c82620> and will run it as-is.\n",
      "Please report this to the TensorFlow team. When filing the bug, set the verbosity to 10 (on Linux, `export AUTOGRAPH_VERBOSITY=10`) and attach the full output.\n",
      "Cause: 'arguments' object has no attribute 'posonlyargs'\n",
      "To silence this warning, decorate the function with @tf.autograph.experimental.do_not_convert\n",
      "161232/161239 [============================>.] - ETA: 0s - loss: 0.0811 - accuracy: 0.9683WARNING:tensorflow:AutoGraph could not transform <function Model.make_test_function.<locals>.test_function at 0x1a1c778378> and will run it as-is.\n",
      "Please report this to the TensorFlow team. When filing the bug, set the verbosity to 10 (on Linux, `export AUTOGRAPH_VERBOSITY=10`) and attach the full output.\n",
      "Cause: 'arguments' object has no attribute 'posonlyargs'\n",
      "To silence this warning, decorate the function with @tf.autograph.experimental.do_not_convert\n",
      "WARNING: AutoGraph could not transform <function Model.make_test_function.<locals>.test_function at 0x1a1c778378> and will run it as-is.\n",
      "Please report this to the TensorFlow team. When filing the bug, set the verbosity to 10 (on Linux, `export AUTOGRAPH_VERBOSITY=10`) and attach the full output.\n",
      "Cause: 'arguments' object has no attribute 'posonlyargs'\n",
      "To silence this warning, decorate the function with @tf.autograph.experimental.do_not_convert\n",
      "161239/161239 [==============================] - 804s 5ms/step - loss: 0.0811 - accuracy: 0.9683 - val_loss: 0.0341 - val_accuracy: 0.9858\n",
      "Epoch 2/10\n",
      "161239/161239 [==============================] - 831s 5ms/step - loss: 0.0434 - accuracy: 0.9841 - val_loss: 0.0476 - val_accuracy: 0.9832\n",
      "Epoch 3/10\n",
      "161239/161239 [==============================] - 780s 5ms/step - loss: 0.0370 - accuracy: 0.9869 - val_loss: 0.0193 - val_accuracy: 0.9940\n",
      "Epoch 4/10\n",
      "161239/161239 [==============================] - 852s 5ms/step - loss: 0.0370 - accuracy: 0.9874 - val_loss: 0.0395 - val_accuracy: 0.9848\n",
      "Epoch 5/10\n",
      "161239/161239 [==============================] - 902s 6ms/step - loss: 0.0360 - accuracy: 0.9878 - val_loss: 0.0186 - val_accuracy: 0.9919\n",
      "Epoch 6/10\n",
      "161239/161239 [==============================] - 878s 5ms/step - loss: 0.0314 - accuracy: 0.9894 - val_loss: 0.0265 - val_accuracy: 0.9893\n",
      "Epoch 7/10\n",
      "161239/161239 [==============================] - 854s 5ms/step - loss: 0.0309 - accuracy: 0.9901 - val_loss: 0.0209 - val_accuracy: 0.9915\n",
      "Epoch 8/10\n",
      "161239/161239 [==============================] - 33320s 207ms/step - loss: 0.0302 - accuracy: 0.9904 - val_loss: 0.0155 - val_accuracy: 0.9936\n",
      "Epoch 9/10\n",
      "161239/161239 [==============================] - 3300s 20ms/step - loss: 0.0317 - accuracy: 0.9901 - val_loss: 0.0183 - val_accuracy: 0.9922\n",
      "Epoch 10/10\n",
      "161239/161239 [==============================] - 691s 4ms/step - loss: 0.0318 - accuracy: 0.9903 - val_loss: 0.0362 - val_accuracy: 0.9858\n"
     ]
    }
   ],
   "source": [
    "history = model.fit(X_train, y_train, validation_data=(X_test,y_test), batch_size=20, epochs = 10, verbose = 1)"
   ]
  },
  {
   "cell_type": "code",
   "execution_count": 30,
   "metadata": {},
   "outputs": [
    {
     "name": "stdout",
     "output_type": "stream",
     "text": [
      "WARNING:tensorflow:AutoGraph could not transform <function Model.make_predict_function.<locals>.predict_function at 0x1a1aa589d8> and will run it as-is.\n",
      "Please report this to the TensorFlow team. When filing the bug, set the verbosity to 10 (on Linux, `export AUTOGRAPH_VERBOSITY=10`) and attach the full output.\n",
      "Cause: 'arguments' object has no attribute 'posonlyargs'\n",
      "To silence this warning, decorate the function with @tf.autograph.experimental.do_not_convert\n",
      "WARNING: AutoGraph could not transform <function Model.make_predict_function.<locals>.predict_function at 0x1a1aa589d8> and will run it as-is.\n",
      "Please report this to the TensorFlow team. When filing the bug, set the verbosity to 10 (on Linux, `export AUTOGRAPH_VERBOSITY=10`) and attach the full output.\n",
      "Cause: 'arguments' object has no attribute 'posonlyargs'\n",
      "To silence this warning, decorate the function with @tf.autograph.experimental.do_not_convert\n",
      "Accuracy of the dataset 98.57971750639811\n"
     ]
    }
   ],
   "source": [
    "prediction=model.predict(X_test)\n",
    "length=len(prediction)\n",
    "y_label=np.argmax(y_test,axis=1)\n",
    "predict_label=np.argmax(prediction,axis=1)\n",
    "\n",
    "accuracy=np.sum(y_label==predict_label)/length * 100 \n",
    "print(\"Accuracy of the dataset\",accuracy )"
   ]
  },
  {
   "cell_type": "code",
   "execution_count": 33,
   "metadata": {},
   "outputs": [
    {
     "data": {
      "image/png": "[encoded data removed]",
      "text/plain": [
       "<Figure size 432x288 with 1 Axes>"
      ]
     },
     "metadata": {
      "needs_background": "light"
     },
     "output_type": "display_data"
    }
   ],
   "source": [
    "import matplotlib.pyplot as plt\n",
    "plt.plot(history.history['accuracy'])\n",
    "plt.plot(history.history['val_accuracy'])\n",
    "plt.title('Model accuracy')\n",
    "plt.ylabel('Accuracy')\n",
    "plt.xlabel('Epoch')\n",
    "plt.legend(['Train', 'Test'], loc='upper left')\n",
    "plt.show()"
   ]
  },
  {
   "cell_type": "markdown",
   "metadata": {},
   "source": [
    "https://www.kaggle.com/louisong97/neural-network-approach-to-iris-dataset\n",
    "https://towardsdatascience.com/building-our-first-neural-network-in-keras-bdc8abbc17f5"
   ]
  },
  {
   "cell_type": "code",
   "execution_count": null,
   "metadata": {},
   "outputs": [],
   "source": []
  }
 ],
 "metadata": {
  "kernelspec": {
   "display_name": "Python 3",
   "language": "python",
   "name": "python3"
  },
  "language_info": {
   "codemirror_mode": {
    "name": "ipython",
    "version": 3
   },
   "file_extension": ".py",
   "mimetype": "text/x-python",
   "name": "python",
   "nbconvert_exporter": "python",
   "pygments_lexer": "ipython3",
   "version": "3.7.3"
  }
 },
 "nbformat": 4,
 "nbformat_minor": 4
}
